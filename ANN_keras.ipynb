{
 "cells": [
  {
   "cell_type": "code",
   "execution_count": 90,
   "metadata": {},
   "outputs": [],
   "source": [
    "import numpy as np\n",
    "import pickle\n",
    "import gzip\n",
    "import matplotlib.pyplot as plt\n",
    "import pandas as pd\n",
    "import numpy as np\n",
    "import matplotlib.pyplot as plt\n",
    "import h5py\n",
    "import sklearn\n",
    "import sklearn.datasets\n",
    "import scipy\n",
    "\n",
    "from PIL import Image\n",
    "from scipy import ndimage\n",
    "\n",
    "\n",
    "from keras.models import Sequential\n",
    "from keras.layers import Dense, Dropout\n",
    "from keras import regularizers\n",
    "\n",
    "np.random.seed(7)"
   ]
  },
  {
   "cell_type": "code",
   "execution_count": 91,
   "metadata": {},
   "outputs": [],
   "source": [
    "%matplotlib inline"
   ]
  },
  {
   "cell_type": "code",
   "execution_count": 92,
   "metadata": {},
   "outputs": [],
   "source": [
    "X_train = np.loadtxt('train_X.csv', delimiter = ',')\n",
    "Y_train = np.loadtxt('train_label.csv', delimiter = ',')\n",
    "\n",
    "X_test = np.loadtxt('test_X.csv', delimiter = ',')\n",
    "Y_test = np.loadtxt('test_label.csv', delimiter = ',')"
   ]
  },
  {
   "cell_type": "code",
   "execution_count": 93,
   "metadata": {},
   "outputs": [
    {
     "name": "stdout",
     "output_type": "stream",
     "text": [
      "shape of X_train : (1000, 784)\n",
      "shape of Y_train : (1000, 10)\n",
      "shape of X_test : (350, 784)\n",
      "shape of Y_test : (350, 10)\n"
     ]
    }
   ],
   "source": [
    "print(\"shape of X_train :\", X_train.shape)\n",
    "print(\"shape of Y_train :\", Y_train.shape)\n",
    "print(\"shape of X_test :\", X_test.shape)\n",
    "print(\"shape of Y_test :\", Y_test.shape)"
   ]
  },
  {
   "cell_type": "code",
   "execution_count": 94,
   "metadata": {},
   "outputs": [],
   "source": [
    "nn_model = Sequential()\n",
    "nn_model.add(Dense(35, input_dim=784, activation='relu'))\n",
    "#nn_model.add(Dropout(0.3))\n",
    "nn_model.add(Dense(25, activation='relu'))\n",
    "nn_model.add(Dense(10, activation='softmax'))"
   ]
  },
  {
   "cell_type": "code",
   "execution_count": 95,
   "metadata": {},
   "outputs": [],
   "source": [
    "nn_model.compile(loss='categorical_crossentropy', optimizer='adam', metrics=['accuracy'])"
   ]
  },
  {
   "cell_type": "code",
   "execution_count": 96,
   "metadata": {},
   "outputs": [
    {
     "name": "stdout",
     "output_type": "stream",
     "text": [
      "Epoch 1/10\n",
      "100/100 [==============================] - 0s 1ms/step - loss: 17.2753 - accuracy: 0.2820\n",
      "Epoch 2/10\n",
      "100/100 [==============================] - 0s 1ms/step - loss: 3.4528 - accuracy: 0.4820\n",
      "Epoch 3/10\n",
      "100/100 [==============================] - 0s 1ms/step - loss: 1.9041 - accuracy: 0.6110\n",
      "Epoch 4/10\n",
      "100/100 [==============================] - 0s 1ms/step - loss: 1.3058 - accuracy: 0.6110\n",
      "Epoch 5/10\n",
      "100/100 [==============================] - 0s 1ms/step - loss: 0.9842 - accuracy: 0.6820\n",
      "Epoch 6/10\n",
      "100/100 [==============================] - 0s 989us/step - loss: 0.8204 - accuracy: 0.7060\n",
      "Epoch 7/10\n",
      "100/100 [==============================] - 0s 1ms/step - loss: 0.6783 - accuracy: 0.7560\n",
      "Epoch 8/10\n",
      "100/100 [==============================] - 0s 1ms/step - loss: 0.5687 - accuracy: 0.7740\n",
      "Epoch 9/10\n",
      "100/100 [==============================] - 0s 1ms/step - loss: 0.4648 - accuracy: 0.8020\n",
      "Epoch 10/10\n",
      "100/100 [==============================] - 0s 1ms/step - loss: 0.5992 - accuracy: 0.7720\n"
     ]
    },
    {
     "data": {
      "text/plain": [
       "<keras.callbacks.History at 0x29ef4840688>"
      ]
     },
     "execution_count": 96,
     "metadata": {},
     "output_type": "execute_result"
    }
   ],
   "source": [
    "nn_model.fit(X_train, Y_train, epochs=10, batch_size=10)"
   ]
  },
  {
   "cell_type": "code",
   "execution_count": 97,
   "metadata": {},
   "outputs": [
    {
     "name": "stdout",
     "output_type": "stream",
     "text": [
      "32/32 [==============================] - 0s 1ms/step - loss: 0.5821 - accuracy: 0.7750\n",
      "\n",
      "accuracy: 77.50%\n"
     ]
    }
   ],
   "source": [
    "scores_train = nn_model.evaluate(X_train, Y_train)\n",
    "print(\"\\n%s: %.2f%%\" % (nn_model.metrics_names[1], scores_train[1]*100))"
   ]
  },
  {
   "cell_type": "code",
   "execution_count": 98,
   "metadata": {},
   "outputs": [
    {
     "name": "stdout",
     "output_type": "stream",
     "text": [
      "11/11 [==============================] - 0s 910us/step - loss: 2.4655 - accuracy: 0.6229\n",
      "\n",
      "accuracy: 62.29%\n"
     ]
    }
   ],
   "source": [
    "scores_test = nn_model.evaluate(X_test, Y_test)\n",
    "print(\"\\n%s: %.2f%%\" % (nn_model.metrics_names[1], scores_test[1]*100))"
   ]
  },
  {
   "cell_type": "code",
   "execution_count": 99,
   "metadata": {},
   "outputs": [
    {
     "data": {
      "text/plain": [
       "array([0, 0, 0, 5, 5, 0, 7, 0, 8, 0, 4, 0, 0, 0, 0, 8, 0, 3, 0, 0, 0, 5,\n",
       "       0, 0, 0, 0, 0, 0, 5, 0, 0, 1, 1, 1, 1, 1, 1, 1, 1, 1, 1, 2, 1, 1,\n",
       "       1, 1, 1, 1, 1, 1, 1, 2, 1, 1, 1, 1, 1, 1, 8, 1, 1, 1, 1, 1, 1, 5,\n",
       "       1, 8, 1, 1, 1, 1, 1, 1, 1, 2, 7, 6, 2, 2, 2, 2, 1, 2, 2, 6, 3, 2,\n",
       "       7, 6, 2, 2, 2, 2, 2, 8, 6, 1, 2, 2, 2, 2, 2, 3, 3, 3, 3, 3, 5, 3,\n",
       "       3, 9, 3, 3, 3, 7, 8, 3, 3, 3, 9, 0, 3, 3, 3, 3, 1, 6, 3, 3, 3, 3,\n",
       "       6, 3, 3, 8, 3, 3, 3, 4, 3, 3, 6, 3, 3, 3, 4, 3, 3, 3, 9, 9, 3, 4,\n",
       "       2, 9, 9, 9, 8, 9, 9, 4, 9, 1, 9, 9, 7, 4, 9, 4, 4, 4, 9, 9, 4, 4,\n",
       "       4, 9, 4, 9, 3, 4, 8, 9, 8, 8, 5, 8, 4, 5, 4, 6, 9, 6, 5, 2, 5, 5,\n",
       "       4, 4, 8, 9, 8, 4, 8, 3, 0, 0, 0, 9, 5, 2, 6, 8, 8, 8, 6, 6, 6, 6,\n",
       "       6, 6, 6, 6, 6, 6, 3, 0, 2, 6, 6, 6, 6, 6, 6, 6, 6, 6, 6, 0, 6, 9,\n",
       "       7, 8, 9, 7, 9, 7, 7, 7, 7, 7, 7, 7, 7, 9, 7, 2, 9, 7, 7, 7, 6, 9,\n",
       "       7, 4, 7, 9, 7, 7, 9, 7, 7, 7, 7, 9, 7, 1, 8, 5, 3, 0, 8, 3, 8, 8,\n",
       "       3, 5, 8, 8, 8, 8, 8, 6, 9, 8, 8, 4, 8, 1, 8, 1, 8, 8, 8, 8, 8, 6,\n",
       "       8, 9, 9, 9, 8, 4, 9, 9, 4, 5, 1, 9, 9, 8, 9, 9, 5, 9, 9, 6, 9, 9,\n",
       "       5, 9, 9, 9, 4, 9, 9, 4, 5, 4, 9, 9, 9, 9, 9, 8, 2, 9, 7, 9],\n",
       "      dtype=int64)"
      ]
     },
     "execution_count": 99,
     "metadata": {},
     "output_type": "execute_result"
    }
   ],
   "source": [
    "predictions = nn_model.predict(X_test)\n",
    "predictions = np.argmax(predictions, axis = 1)\n",
    "predictions"
   ]
  },
  {
   "cell_type": "code",
   "execution_count": 100,
   "metadata": {},
   "outputs": [
    {
     "data": {
      "text/plain": [
       "(350, 784)"
      ]
     },
     "execution_count": 100,
     "metadata": {},
     "output_type": "execute_result"
    }
   ],
   "source": [
    "X_test.shape"
   ]
  },
  {
   "cell_type": "code",
   "execution_count": 101,
   "metadata": {},
   "outputs": [
    {
     "data": {
      "text/plain": [
       "array([0, 0, 0, 5, 5, 0, 7, 0, 8, 0, 4, 0, 0, 0, 0, 8, 0, 3, 0, 0, 0, 5,\n",
       "       0, 0, 0, 0, 0, 0, 5, 0, 0, 1, 1, 1, 1, 1, 1, 1, 1, 1, 1, 2, 1, 1,\n",
       "       1, 1, 1, 1, 1, 1, 1, 2, 1, 1, 1, 1, 1, 1, 8, 1, 1, 1, 1, 1, 1, 5,\n",
       "       1, 8, 1, 1, 1, 1, 1, 1, 1, 2, 7, 6, 2, 2, 2, 2, 1, 2, 2, 6, 3, 2,\n",
       "       7, 6, 2, 2, 2, 2, 2, 8, 6, 1, 2, 2, 2, 2, 2, 3, 3, 3, 3, 3, 5, 3,\n",
       "       3, 9, 3, 3, 3, 7, 8, 3, 3, 3, 9, 0, 3, 3, 3, 3, 1, 6, 3, 3, 3, 3,\n",
       "       6, 3, 3, 8, 3, 3, 3, 4, 3, 3, 6, 3, 3, 3, 4, 3, 3, 3, 9, 9, 3, 4,\n",
       "       2, 9, 9, 9, 8, 9, 9, 4, 9, 1, 9, 9, 7, 4, 9, 4, 4, 4, 9, 9, 4, 4,\n",
       "       4, 9, 4, 9, 3, 4, 8, 9, 8, 8, 5, 8, 4, 5, 4, 6, 9, 6, 5, 2, 5, 5,\n",
       "       4, 4, 8, 9, 8, 4, 8, 3, 0, 0, 0, 9, 5, 2, 6, 8, 8, 8, 6, 6, 6, 6,\n",
       "       6, 6, 6, 6, 6, 6, 3, 0, 2, 6, 6, 6, 6, 6, 6, 6, 6, 6, 6, 0, 6, 9,\n",
       "       7, 8, 9, 7, 9, 7, 7, 7, 7, 7, 7, 7, 7, 9, 7, 2, 9, 7, 7, 7, 6, 9,\n",
       "       7, 4, 7, 9, 7, 7, 9, 7, 7, 7, 7, 9, 7, 1, 8, 5, 3, 0, 8, 3, 8, 8,\n",
       "       3, 5, 8, 8, 8, 8, 8, 6, 9, 8, 8, 4, 8, 1, 8, 1, 8, 8, 8, 8, 8, 6,\n",
       "       8, 9, 9, 9, 8, 4, 9, 9, 4, 5, 1, 9, 9, 8, 9, 9, 5, 9, 9, 6, 9, 9,\n",
       "       5, 9, 9, 9, 4, 9, 9, 4, 5, 4, 9, 9, 9, 9, 9, 8, 2, 9, 7, 9],\n",
       "      dtype=int64)"
      ]
     },
     "execution_count": 101,
     "metadata": {},
     "output_type": "execute_result"
    }
   ],
   "source": [
    "predictions"
   ]
  },
  {
   "cell_type": "code",
   "execution_count": 105,
   "metadata": {},
   "outputs": [
    {
     "data": {
      "image/png": "[encoded data removed]",
      "text/plain": [
       "<Figure size 432x288 with 1 Axes>"
      ]
     },
     "metadata": {
      "needs_background": "light"
     },
     "output_type": "display_data"
    }
   ],
   "source": [
    "import numpy as np\n",
    "import matplotlib.pyplot as plt\n",
    "import random\n",
    "\n",
    "idx = 100\n",
    "x_val = X_test.T\n",
    "plt.imshow(x_val[:, idx].reshape((28, 28)),cmap='gray')\n",
    "plt.show()\n"
   ]
  },
  {
   "cell_type": "code",
   "execution_count": 106,
   "metadata": {},
   "outputs": [],
   "source": [
    "\n",
    "k = X_test[idx, :]"
   ]
  },
  {
   "cell_type": "code",
   "execution_count": 107,
   "metadata": {},
   "outputs": [],
   "source": [
    "k = k.reshape((28, 28))"
   ]
  },
  {
   "cell_type": "code",
   "execution_count": 108,
   "metadata": {},
   "outputs": [
    {
     "name": "stdout",
     "output_type": "stream",
     "text": [
      "Label is (2, 184)\n"
     ]
    }
   ],
   "source": [
    "print('Label is {label}'.format(label=(predictions[idx], np.argmax(X_test, axis = 1)[index])))\n",
    "#plt.imshow(k, cmap='gray')"
   ]
  },
  {
   "cell_type": "code",
   "execution_count": 109,
   "metadata": {},
   "outputs": [],
   "source": [
    "label=(predictions[idx])"
   ]
  },
  {
   "cell_type": "code",
   "execution_count": 110,
   "metadata": {},
   "outputs": [
    {
     "name": "stdout",
     "output_type": "stream",
     "text": [
      "2\n"
     ]
    }
   ],
   "source": [
    "print(label)"
   ]
  },
  {
   "cell_type": "code",
   "execution_count": 89,
   "metadata": {},
   "outputs": [
    {
     "name": "stdout",
     "output_type": "stream",
     "text": [
      "349\n"
     ]
    }
   ],
   "source": [
    "print(index)"
   ]
  },
  {
   "cell_type": "code",
   "execution_count": null,
   "metadata": {},
   "outputs": [],
   "source": []
  },
  {
   "cell_type": "code",
   "execution_count": null,
   "metadata": {},
   "outputs": [],
   "source": []
  }
 ],
 "metadata": {
  "kernelspec": {
   "display_name": "Python 3",
   "language": "python",
   "name": "python3"
  },
  "language_info": {
   "codemirror_mode": {
    "name": "ipython",
    "version": 3
   },
   "file_extension": ".py",
   "mimetype": "text/x-python",
   "name": "python",
   "nbconvert_exporter": "python",
   "pygments_lexer": "ipython3",
   "version": "3.7.6"
  }
 },
 "nbformat": 4,
 "nbformat_minor": 4
}
